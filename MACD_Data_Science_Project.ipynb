{
 "cells": [
  {
   "cell_type": "code",
   "execution_count": null,
   "metadata": {},
   "outputs": [],
   "source": [
    "# UPDATE 9/28/2022: I AM AWARE THAT USING A MACHINE LEARNING MODEL WAS NOT NECESSARY FOR THIS PROJECT. A SIMPLE 2-DIMENSIONAL\n",
    "# LINEAR REGRESSION CALCULATION WOULD HAVE ACHIEVED THE SAME GOAL (SEE README FILE IN GITHUB REPOSITORY FOR MORE INFO\n",
    "# ABOUT THIS)."
   ]
  },
  {
   "cell_type": "code",
   "execution_count": 1,
   "metadata": {
    "id": "nuzfd_P8F-nV"
   },
   "outputs": [],
   "source": [
    "# Imports\n",
    "import pandas as pd\n",
    "import requests\n",
    "import mysql.connector\n",
    "import os\n",
    "import numpy as np\n",
    "from tensorflow import keras\n",
    "import matplotlib.pyplot as plt"
   ]
  },
  {
   "cell_type": "code",
   "execution_count": 2,
   "metadata": {
    "id": "MASVwocyU0CE"
   },
   "outputs": [],
   "source": [
    "# API URL\n",
    "\n",
    "# NOTE: I have replaced the actual API URL with a generic string for privacy\n",
    "url = 'API_URL'"
   ]
  },
  {
   "cell_type": "code",
   "execution_count": 3,
   "metadata": {
    "id": "oVoSFQBOWc2d"
   },
   "outputs": [],
   "source": [
    "# Making API Call\n",
    "response = requests.get(url).json()"
   ]
  },
  {
   "cell_type": "code",
   "execution_count": 5,
   "metadata": {
    "id": "LiRNTZwbZlmg"
   },
   "outputs": [],
   "source": [
    "# Creating Pandas Dataframe\n",
    "backtest_df = pd.DataFrame(columns=['Day Number', 'Close', '12 Day EMA', '26 Day EMA', 'MACD',\n",
    "                                    'Signal','Histogram', '5 Day Max', '5 Day Min'])"
   ]
  },
  {
   "cell_type": "code",
   "execution_count": 6,
   "metadata": {
    "id": "vMtlT8Oojgk1"
   },
   "outputs": [],
   "source": [
    "# Inputting API data into dataframe\n",
    "for daynumber, day in enumerate(response['results']):\n",
    "    backtest_df = backtest_df.append({'Day Number' : int(daynumber), 'Close' : day['c'], '12 Day EMA' : None,\n",
    "                                      '26 Day EMA' : None, 'MACD' : None, 'Signal' : None, 'Histogram' : None,\n",
    "                                      '5 Day Max' : None, '5 Day Min' : None}, ignore_index=True)"
   ]
  },
  {
   "cell_type": "code",
   "execution_count": 7,
   "metadata": {},
   "outputs": [],
   "source": [
    "# Adjusting Dataframe\n",
    "backtest_df['Day Number'] = backtest_df['Day Number'].astype(int)"
   ]
  },
  {
   "cell_type": "code",
   "execution_count": 9,
   "metadata": {
    "id": "Ejn1zvLilbAL"
   },
   "outputs": [],
   "source": [
    "# Connection details\n",
    "\n",
    "# NOTE: I have replaced the actual hostname, username, and password with generic strings for privacy\n",
    "\n",
    "hostname = 'AWS_HOSTNAME'\n",
    "username = 'USERNAME'\n",
    "my_password = 'PASSWORD'"
   ]
  },
  {
   "cell_type": "code",
   "execution_count": 10,
   "metadata": {
    "id": "N4JT3_gjKM_C",
    "scrolled": true
   },
   "outputs": [
    {
     "name": "stdout",
     "output_type": "stream",
     "text": [
      "Connected\n"
     ]
    }
   ],
   "source": [
    "# connecting to AWS database\n",
    "try:\n",
    "    db = mysql.connector.connect(host=hostname, user=username, passwd=my_password)\n",
    "except:\n",
    "    print('failed')\n",
    "else:\n",
    "    print('Connected')"
   ]
  },
  {
   "cell_type": "code",
   "execution_count": 11,
   "metadata": {},
   "outputs": [],
   "source": [
    "mycursor = db.cursor(buffered=True)"
   ]
  },
  {
   "cell_type": "code",
   "execution_count": 12,
   "metadata": {},
   "outputs": [],
   "source": [
    "try:\n",
    "    mycursor.execute('DROP DATABASE IF EXISTS Stock_Data')\n",
    "    db.commit()\n",
    "except:\n",
    "    print('failed')"
   ]
  },
  {
   "cell_type": "code",
   "execution_count": 13,
   "metadata": {},
   "outputs": [],
   "source": [
    "# Creating the AAPL database\n",
    "mycursor.execute('CREATE DATABASE IF NOT EXISTS Stock_Data')"
   ]
  },
  {
   "cell_type": "code",
   "execution_count": 14,
   "metadata": {},
   "outputs": [],
   "source": [
    "# Creating the backtest and training tables in our database\n",
    "mycursor.execute('USE Stock_Data')\n",
    "\n",
    "# backtest table\n",
    "mycursor.execute('''CREATE TABLE IF NOT EXISTS AAPL_BACKTEST (day_number INT PRIMARY KEY,\n",
    "                                                            close FLOAT,\n",
    "                                                            12_day_ema FLOAT,\n",
    "                                                            26_day_ema FLOAT,\n",
    "                                                            macd FLOAT,\n",
    "                                                            signal_line FLOAT,\n",
    "                                                            histogram FLOAT,\n",
    "                                                            5_day_max FLOAT,\n",
    "                                                            5_day_min FLOAT)''')\n",
    "# training table\n",
    "mycursor.execute('''CREATE TABLE IF NOT EXISTS AAPL_TRAINING_DATA (day_number INT PRIMARY KEY,\n",
    "                                                                    close FLOAT,\n",
    "                                                                    12_day_ema FLOAT,\n",
    "                                                                    26_day_ema FLOAT,\n",
    "                                                                    macd FLOAT,\n",
    "                                                                    signal_line FLOAT,\n",
    "                                                                    histogram FLOAT,\n",
    "                                                                    5_day_max FLOAT,\n",
    "                                                                    5_day_min FLOAT)''')"
   ]
  },
  {
   "cell_type": "code",
   "execution_count": 15,
   "metadata": {},
   "outputs": [],
   "source": [
    "# Importing our training dataset (CSV file)\n",
    "\n",
    "training_df = pd.read_csv('AAPL_train.csv',usecols=['Close'])\n",
    "\n",
    "# adding columns\n",
    "training_df['Day Number'] = range(len(training_df))\n",
    "training_df['12 Day EMA'] = np.nan\n",
    "training_df['26 Day EMA'] = np.nan\n",
    "training_df['MACD'] = np.nan\n",
    "training_df['Signal'] = np.nan\n",
    "training_df['Histogram'] = np.nan\n",
    "training_df['5 Day Max'] = np.nan\n",
    "training_df['5 Day Min'] = np.nan\n",
    "\n",
    "# rearranging columns\n",
    "training_df = training_df[['Day Number', 'Close', '12 Day EMA', '26 Day EMA', 'MACD',\n",
    "                           'Signal', 'Histogram', '5 Day Max', '5 Day Min']]"
   ]
  },
  {
   "cell_type": "code",
   "execution_count": 17,
   "metadata": {},
   "outputs": [],
   "source": [
    "# Calculating EMAs \n",
    "def ema(df, num_days):\n",
    "    smoothing = 2\n",
    "    current_values_sum = 0\n",
    "    colname = str(num_days) + ' Day EMA'\n",
    "    \n",
    "    # Getting first EMA value\n",
    "    for i in range(num_days):\n",
    "        current_values_sum += df['Close'][i]\n",
    "    \n",
    "    # modifying initial dataframe value\n",
    "    df[colname][num_days - 1] = current_values_sum / num_days \n",
    "    \n",
    "    # modifying rest of dataframe values\n",
    "    \n",
    "    for i in range(num_days, len(df), 1):\n",
    "        df[colname][i] = (df['Close'][i] * (smoothing / (1 + num_days))) + (df[colname][i - 1] * (1 - (smoothing / (1 + num_days))))\n",
    "    \n",
    "    return df"
   ]
  },
  {
   "cell_type": "code",
   "execution_count": 18,
   "metadata": {},
   "outputs": [],
   "source": [
    "# MACD\n",
    "def macd(df, min_days, max_days):\n",
    "    \n",
    "    mindayscol = str(min_days) + ' Day EMA'\n",
    "    maxdayscol = str(max_days) + ' Day EMA'\n",
    "    \n",
    "    for i in range(max_days - 1, len(df), 1):\n",
    "        df['MACD'][i] = df[mindayscol][i] - df[maxdayscol][i]\n",
    "    \n",
    "    return df\n",
    "    "
   ]
  },
  {
   "cell_type": "code",
   "execution_count": 19,
   "metadata": {},
   "outputs": [],
   "source": [
    "# Signal\n",
    "def signal(df, num_days, ema_max_days):\n",
    "    smoothing = 2\n",
    "    current_values_sum = 0\n",
    "    \n",
    "    # Getting first EMA value\n",
    "    for i in range(ema_max_days - 1, (num_days - 1) + (ema_max_days - 1) + 1, 1):\n",
    "        current_values_sum += df['MACD'][i]\n",
    "    \n",
    "    # modifying initial dataframe value\n",
    "    df['Signal'][(num_days - 1) + (ema_max_days - 1)] = current_values_sum / num_days \n",
    "    \n",
    "    # modifying rest of dataframe values\n",
    "    \n",
    "    for i in range((num_days - 1) + (ema_max_days - 1) + 1, len(df), 1):\n",
    "        df['Signal'][i] = (df['MACD'][i] * (smoothing / (1 + num_days))) + (df['Signal'][i - 1] * (1 - (smoothing / (1 + num_days))))\n",
    "    \n",
    "    return df"
   ]
  },
  {
   "cell_type": "code",
   "execution_count": 20,
   "metadata": {},
   "outputs": [],
   "source": [
    "# Histogram\n",
    "def histogram(df, signal_days, ema_max_days):\n",
    "    \n",
    "    initial_index = signal_days + ema_max_days - 2\n",
    "    \n",
    "    for i in range(initial_index, len(df), 1):\n",
    "        df['Histogram'][i] = df['MACD'][i] - df['Signal'][i]\n",
    "    \n",
    "    return df"
   ]
  },
  {
   "cell_type": "code",
   "execution_count": 21,
   "metadata": {},
   "outputs": [],
   "source": [
    "# Max and Min values of a future period\n",
    "def max_min_vals(df, num_days):\n",
    "    \n",
    "    for i in range(len(df) - num_days):\n",
    "        df[str(num_days) + ' Day Max'][i] = df['Close'][i + 1: i + num_days + 1].max()\n",
    "        df[str(num_days) + ' Day Min'][i] = df['Close'][i + 1: i + num_days + 1].min()\n",
    "    \n",
    "    return df"
   ]
  },
  {
   "cell_type": "code",
   "execution_count": null,
   "metadata": {},
   "outputs": [],
   "source": [
    "# Completing the training dataframe\n",
    "\n",
    "training_df = ema(training_df, 12)\n",
    "training_df = ema(training_df, 26)\n",
    "training_df = macd(training_df, 12, 26)\n",
    "training_df = signal(training_df, 9, 26)\n",
    "training_df = histogram(training_df, 9, 26)\n",
    "training_df = max_min_vals(training_df, 5)"
   ]
  },
  {
   "cell_type": "code",
   "execution_count": null,
   "metadata": {},
   "outputs": [],
   "source": [
    "# Completing the backtesting dataframe\n",
    "\n",
    "backtest_df = ema(backtest_df, 12)\n",
    "backtest_df = ema(backtest_df, 26)\n",
    "backtest_df = macd(backtest_df, 12, 26)\n",
    "backtest_df = signal(backtest_df, 9, 26)\n",
    "backtest_df = histogram(backtest_df, 9, 26)\n",
    "backtest_df = max_min_vals(backtest_df, 5)"
   ]
  },
  {
   "cell_type": "code",
   "execution_count": 25,
   "metadata": {},
   "outputs": [],
   "source": [
    "# Converts NaN (in dataframe) to NULL (in AWS database)\n",
    "def null_conv(data):\n",
    "    a = str(data)\n",
    "    if a != 'nan':\n",
    "        return a\n",
    "    else:\n",
    "        return None"
   ]
  },
  {
   "cell_type": "code",
   "execution_count": 26,
   "metadata": {},
   "outputs": [],
   "source": [
    "# Inserting Pandas Dataframes into our database table\n",
    "\n",
    "for i, row in backtest_df.iterrows():\n",
    "    mycursor.execute('''INSERT INTO AAPL_BACKTEST (day_number, close, 12_day_ema, 26_day_ema, macd,\n",
    "                        signal_line, histogram, 5_day_max, 5_day_min)\n",
    "                    VALUES (%s, %s, %s, %s, %s, %s, %s, %s, %s)''', (str(row['Day Number']), str(row['Close']),\n",
    "                                                            null_conv(row['12 Day EMA']), null_conv(row['26 Day EMA']),\n",
    "                                                            null_conv(row['MACD']), null_conv(row['Signal']),\n",
    "                                                            null_conv(row['Histogram']), null_conv(row['5 Day Max']),\n",
    "                                                            null_conv(row['5 Day Min'])))\n",
    "\n",
    "for i, row in training_df.iterrows():\n",
    "    mycursor.execute('''INSERT INTO AAPL_TRAINING_DATA (day_number, close, 12_day_ema, 26_day_ema, macd,\n",
    "                        signal_line, histogram, 5_day_max, 5_day_min)\n",
    "                    VALUES (%s, %s, %s, %s, %s, %s, %s, %s, %s)''', (str(row['Day Number']), str(row['Close']),\n",
    "                                                            null_conv(row['12 Day EMA']), null_conv(row['26 Day EMA']),\n",
    "                                                            null_conv(row['MACD']), null_conv(row['Signal']),\n",
    "                                                            null_conv(row['Histogram']), null_conv(row['5 Day Max']),\n",
    "                                                            null_conv(row['5 Day Min'])))\n",
    "    "
   ]
  },
  {
   "cell_type": "code",
   "execution_count": 27,
   "metadata": {},
   "outputs": [],
   "source": [
    "# commiting our inserts\n",
    "db.commit()"
   ]
  },
  {
   "cell_type": "code",
   "execution_count": 28,
   "metadata": {},
   "outputs": [],
   "source": [
    "# Creating our new dataframes that will be used for our machine learning models\n",
    "backtest_pos_vals = pd.DataFrame(columns=['Day Number', 'Close', '12 Day EMA', '26 Day EMA', \n",
    "                                           'MACD','Signal', 'Histogram', '5 Day Min'])\n",
    "\n",
    "backtest_neg_vals = pd.DataFrame(columns=['Day Number', 'Close', '12 Day EMA', '26 Day EMA', \n",
    "                                           'MACD','Signal', 'Histogram', '5 Day Max'])\n",
    "\n",
    "train_pos_vals = pd.DataFrame(columns=['Day Number', 'Close', '12 Day EMA', '26 Day EMA', \n",
    "                                           'MACD','Signal', 'Histogram', '5 Day Min'])\n",
    "\n",
    "train_neg_vals = pd.DataFrame(columns=['Day Number', 'Close', '12 Day EMA', '26 Day EMA', \n",
    "                                           'MACD','Signal', 'Histogram', '5 Day Max'])"
   ]
  },
  {
   "cell_type": "code",
   "execution_count": 29,
   "metadata": {},
   "outputs": [],
   "source": [
    "# Loading data from our AWS database into our empty dataframes\n",
    "\n",
    "# positve histogram values (backtest)\n",
    "mycursor.execute('''SELECT day_number, close, 12_day_ema, 26_day_ema, macd, signal_line, histogram, 5_day_min \n",
    "                    FROM AAPL_BACKTEST\n",
    "                    WHERE histogram > 0 AND 5_day_min IS NOT NULL''')\n",
    "for i in mycursor:\n",
    "    backtest_pos_vals = backtest_pos_vals.append({'Day Number' : i[0], 'Close' : i[1], '12 Day EMA' : i[2], '26 Day EMA' : i[3],\n",
    "                                                  'MACD' : i[4], 'Signal' : i[5], 'Histogram' : i[6], '5 Day Min' : i[7]}, \n",
    "                                                     ignore_index=True)\n",
    "# Negative histogram values (backtest)\n",
    "mycursor.execute('''SELECT day_number, close, 12_day_ema, 26_day_ema, macd, signal_line, histogram, 5_day_max\n",
    "                    FROM AAPL_BACKTEST\n",
    "                    WHERE histogram < 0 AND 5_day_max IS NOT NULL''')\n",
    "for i in mycursor:\n",
    "    backtest_neg_vals = backtest_neg_vals.append({'Day Number' : i[0], 'Close' : i[1], '12 Day EMA' : i[2], '26 Day EMA' : i[3],\n",
    "                                                  'MACD' : i[4], 'Signal' : i[5], 'Histogram' : i[6], '5 Day Max' : i[7]},\n",
    "                                                    ignore_index=True)\n",
    "# Positive histogram values (training)\n",
    "mycursor.execute('''SELECT day_number, close, 12_day_ema, 26_day_ema, macd, signal_line, histogram, 5_day_min \n",
    "                    FROM AAPL_TRAINING_DATA\n",
    "                    WHERE histogram > 0 AND 5_day_min IS NOT NULL''')\n",
    "for i in mycursor:\n",
    "    train_pos_vals = train_pos_vals.append({'Day Number' : i[0], 'Close' : i[1], '12 Day EMA' : i[2], '26 Day EMA' : i[3],\n",
    "                                      'MACD' : i[4], 'Signal' : i[5], 'Histogram' : i[6], '5 Day Min' : i[7]}, \n",
    "                                        ignore_index=True)\n",
    "    \n",
    "# Negative histogram values (training)\n",
    "mycursor.execute('''SELECT day_number, close, 12_day_ema, 26_day_ema, macd, signal_line, histogram, 5_day_max\n",
    "                    FROM AAPL_TRAINING_DATA\n",
    "                    WHERE histogram < 0 AND 5_day_max IS NOT NULL''')\n",
    "for i in mycursor:\n",
    "    train_neg_vals = train_neg_vals.append({'Day Number' : i[0], 'Close' : i[1], '12 Day EMA' : i[2], '26 Day EMA' : i[3],\n",
    "                                      'MACD' : i[4], 'Signal' : i[5], 'Histogram' : i[6], '5 Day Max' : i[7]}, \n",
    "                                           ignore_index=True)"
   ]
  },
  {
   "cell_type": "code",
   "execution_count": 30,
   "metadata": {},
   "outputs": [],
   "source": [
    "# Adjusting Dataframes\n",
    "backtest_pos_vals['Day Number'] = backtest_pos_vals['Day Number'].astype(int)\n",
    "backtest_neg_vals['Day Number'] = backtest_neg_vals['Day Number'].astype(int)\n",
    "train_pos_vals['Day Number'] = train_pos_vals['Day Number'].astype(int)\n",
    "train_neg_vals['Day Number'] = train_neg_vals['Day Number'].astype(int)"
   ]
  },
  {
   "cell_type": "code",
   "execution_count": 31,
   "metadata": {},
   "outputs": [],
   "source": [
    "# Data preprocessing for positive histogram values\n",
    "\n",
    "# feature is histogram value\n",
    "pos_train_features = train_pos_vals['Histogram'][:].to_numpy()\n",
    "pos_test_features = backtest_pos_vals['Histogram'][:].to_numpy()\n",
    "\n",
    "# label is maximum percentage decrease of the stock in the following 5 days\n",
    "pos_test_labels = []\n",
    "pos_train_labels = []\n",
    "\n",
    "for i, row in backtest_pos_vals.iterrows():\n",
    "    pos_test_labels.append((row['5 Day Min'] / row['Close']) - 1)\n",
    "\n",
    "for i, row in train_pos_vals.iterrows():\n",
    "    pos_train_labels.append((row['5 Day Min'] / row['Close']) - 1)\n",
    "\n",
    "pos_test_labels = np.array(pos_test_labels)\n",
    "pos_train_labels = np.array(pos_train_labels)"
   ]
  },
  {
   "cell_type": "code",
   "execution_count": 32,
   "metadata": {},
   "outputs": [],
   "source": [
    "# Data preprocessing for negative histogram values\n",
    "\n",
    "# feature is histogram value\n",
    "neg_train_features = train_neg_vals['Histogram'][:].to_numpy()\n",
    "neg_test_features = backtest_neg_vals['Histogram'][:].to_numpy()\n",
    "\n",
    "# label is maximum percentage increase of the stock in the following 5 days\n",
    "neg_test_labels = []\n",
    "neg_train_labels = []\n",
    "\n",
    "for i, row in backtest_neg_vals.iterrows():\n",
    "    neg_test_labels.append((row['5 Day Max'] / row['Close']) - 1)\n",
    "\n",
    "for i, row in train_neg_vals.iterrows():\n",
    "    neg_train_labels.append((row['5 Day Max'] / row['Close']) - 1)\n",
    "\n",
    "neg_test_labels = np.array(neg_test_labels)\n",
    "neg_train_labels = np.array(neg_train_labels)"
   ]
  },
  {
   "cell_type": "code",
   "execution_count": 33,
   "metadata": {},
   "outputs": [
    {
     "name": "stdout",
     "output_type": "stream",
     "text": [
      "Model: \"sequential\"\n",
      "_________________________________________________________________\n",
      " Layer (type)                Output Shape              Param #   \n",
      "=================================================================\n",
      " dense (Dense)               (None, 1)                 2         \n",
      "                                                                 \n",
      "=================================================================\n",
      "Total params: 2\n",
      "Trainable params: 2\n",
      "Non-trainable params: 0\n",
      "_________________________________________________________________\n",
      "Model: \"sequential_1\"\n",
      "_________________________________________________________________\n",
      " Layer (type)                Output Shape              Param #   \n",
      "=================================================================\n",
      " dense_1 (Dense)             (None, 1)                 2         \n",
      "                                                                 \n",
      "=================================================================\n",
      "Total params: 2\n",
      "Trainable params: 2\n",
      "Non-trainable params: 0\n",
      "_________________________________________________________________\n"
     ]
    }
   ],
   "source": [
    "# building the models\n",
    "pos_model = keras.models.Sequential([\n",
    "        keras.Input(shape=(1,)),\n",
    "        keras.layers.Dense(units=1)\n",
    "    ])\n",
    "\n",
    "neg_model = keras.models.Sequential([\n",
    "        keras.Input(shape=(1,)),\n",
    "        keras.layers.Dense(units=1)\n",
    "    ])\n",
    "\n",
    "loss = keras.losses.MeanAbsoluteError()\n",
    "optimizer = keras.optimizers.Adam()\n",
    "\n",
    "pos_model.compile(optimizer=optimizer, loss=loss)\n",
    "neg_model.compile(optimizer=optimizer, loss=loss)\n",
    "\n",
    "pos_model.summary()\n",
    "neg_model.summary()"
   ]
  },
  {
   "cell_type": "code",
   "execution_count": 34,
   "metadata": {
    "scrolled": true
   },
   "outputs": [
    {
     "data": {
      "image/png": "[encoded data removed]",
      "text/plain": [
       "<Figure size 432x288 with 1 Axes>"
      ]
     },
     "metadata": {
      "needs_background": "light"
     },
     "output_type": "display_data"
    }
   ],
   "source": [
    "# showing the architecture of my simple linear regression model\n",
    "model_image = keras.preprocessing.image.load_img('Model_Diagram.jpg', target_size=(487, 486))\n",
    "model_diagram_arr = keras.preprocessing.image.img_to_array(model_image)\n",
    "plt.imshow(model_diagram_arr.astype('uint8'))\n",
    "title = plt.title(\"Diagram of My Simple Linear Regression Model\")\n",
    "\n",
    "\n",
    "# UPDATE 9/28/2022: I AM AWARE THAT USING A MACHINE LEARNING MODEL WAS NOT NECESSARY FOR THIS PROJECT. A SIMPLE 2-DIMENSIONAL\n",
    "# LINEAR REGRESSION CALCULATION WOULD HAVE ACHIEVED THE SAME GOAL (SEE README FILE IN GITHUB REPOSITORY FOR MORE INFO\n",
    "# ABOUT THIS)."
   ]
  },
  {
   "cell_type": "code",
   "execution_count": 35,
   "metadata": {},
   "outputs": [
    {
     "name": "stdout",
     "output_type": "stream",
     "text": [
      "Epoch 1/64\n",
      "23/23 [==============================] - 0s 2ms/step - loss: 0.0599\n",
      "Epoch 2/64\n",
      "23/23 [==============================] - 0s 2ms/step - loss: 0.0480\n",
      "Epoch 3/64\n",
      "23/23 [==============================] - 0s 2ms/step - loss: 0.0435\n",
      "Epoch 4/64\n",
      "23/23 [==============================] - 0s 2ms/step - loss: 0.0422\n",
      "Epoch 5/64\n",
      "23/23 [==============================] - 0s 2ms/step - loss: 0.0414\n",
      "Epoch 6/64\n",
      "23/23 [==============================] - 0s 2ms/step - loss: 0.0404\n",
      "Epoch 7/64\n",
      "23/23 [==============================] - 0s 2ms/step - loss: 0.0395\n",
      "Epoch 8/64\n",
      "23/23 [==============================] - 0s 1ms/step - loss: 0.0385\n",
      "Epoch 9/64\n",
      "23/23 [==============================] - 0s 2ms/step - loss: 0.0376\n",
      "Epoch 10/64\n",
      "23/23 [==============================] - 0s 2ms/step - loss: 0.0366\n",
      "Epoch 11/64\n",
      "23/23 [==============================] - 0s 2ms/step - loss: 0.0356\n",
      "Epoch 12/64\n",
      "23/23 [==============================] - 0s 2ms/step - loss: 0.0347\n",
      "Epoch 13/64\n",
      "23/23 [==============================] - 0s 1ms/step - loss: 0.0337\n",
      "Epoch 14/64\n",
      "23/23 [==============================] - 0s 2ms/step - loss: 0.0328\n",
      "Epoch 15/64\n",
      "23/23 [==============================] - 0s 2ms/step - loss: 0.0319\n",
      "Epoch 16/64\n",
      "23/23 [==============================] - 0s 2ms/step - loss: 0.0310\n",
      "Epoch 17/64\n",
      "23/23 [==============================] - 0s 2ms/step - loss: 0.0300\n",
      "Epoch 18/64\n",
      "23/23 [==============================] - 0s 2ms/step - loss: 0.0292\n",
      "Epoch 19/64\n",
      "23/23 [==============================] - 0s 1ms/step - loss: 0.0283\n",
      "Epoch 20/64\n",
      "23/23 [==============================] - ETA: 0s - loss: 0.032 - 0s 1ms/step - loss: 0.0275\n",
      "Epoch 21/64\n",
      "23/23 [==============================] - 0s 1ms/step - loss: 0.0267\n",
      "Epoch 22/64\n",
      "23/23 [==============================] - 0s 2ms/step - loss: 0.0259\n",
      "Epoch 23/64\n",
      "23/23 [==============================] - 0s 1ms/step - loss: 0.0252\n",
      "Epoch 24/64\n",
      "23/23 [==============================] - 0s 2ms/step - loss: 0.0244\n",
      "Epoch 25/64\n",
      "23/23 [==============================] - 0s 1ms/step - loss: 0.0237\n",
      "Epoch 26/64\n",
      "23/23 [==============================] - 0s 1ms/step - loss: 0.0231\n",
      "Epoch 27/64\n",
      "23/23 [==============================] - 0s 1ms/step - loss: 0.0224\n",
      "Epoch 28/64\n",
      "23/23 [==============================] - 0s 2ms/step - loss: 0.0218\n",
      "Epoch 29/64\n",
      "23/23 [==============================] - 0s 2ms/step - loss: 0.0212\n",
      "Epoch 30/64\n",
      "23/23 [==============================] - 0s 1ms/step - loss: 0.0206\n",
      "Epoch 31/64\n",
      "23/23 [==============================] - 0s 2ms/step - loss: 0.0201\n",
      "Epoch 32/64\n",
      "23/23 [==============================] - 0s 2ms/step - loss: 0.0196\n",
      "Epoch 33/64\n",
      "23/23 [==============================] - 0s 1ms/step - loss: 0.0192\n",
      "Epoch 34/64\n",
      "23/23 [==============================] - 0s 2ms/step - loss: 0.0188\n",
      "Epoch 35/64\n",
      "23/23 [==============================] - 0s 2ms/step - loss: 0.0185\n",
      "Epoch 36/64\n",
      "23/23 [==============================] - 0s 1ms/step - loss: 0.0183\n",
      "Epoch 37/64\n",
      "23/23 [==============================] - 0s 2ms/step - loss: 0.0180\n",
      "Epoch 38/64\n",
      "23/23 [==============================] - 0s 2ms/step - loss: 0.0178\n",
      "Epoch 39/64\n",
      "23/23 [==============================] - 0s 2ms/step - loss: 0.0176\n",
      "Epoch 40/64\n",
      "23/23 [==============================] - 0s 2ms/step - loss: 0.0174\n",
      "Epoch 41/64\n",
      "23/23 [==============================] - 0s 2ms/step - loss: 0.0173\n",
      "Epoch 42/64\n",
      "23/23 [==============================] - 0s 2ms/step - loss: 0.0171\n",
      "Epoch 43/64\n",
      "23/23 [==============================] - 0s 2ms/step - loss: 0.0171\n",
      "Epoch 44/64\n",
      "23/23 [==============================] - 0s 1ms/step - loss: 0.0171\n",
      "Epoch 45/64\n",
      "23/23 [==============================] - 0s 1ms/step - loss: 0.0170\n",
      "Epoch 46/64\n",
      "23/23 [==============================] - 0s 2ms/step - loss: 0.0169\n",
      "Epoch 47/64\n",
      "23/23 [==============================] - 0s 2ms/step - loss: 0.0168\n",
      "Epoch 48/64\n",
      "23/23 [==============================] - 0s 2ms/step - loss: 0.0170\n",
      "Epoch 49/64\n",
      "23/23 [==============================] - 0s 1ms/step - loss: 0.0168\n",
      "Epoch 50/64\n",
      "23/23 [==============================] - 0s 1ms/step - loss: 0.0168\n",
      "Epoch 51/64\n",
      "23/23 [==============================] - 0s 2ms/step - loss: 0.0167\n",
      "Epoch 52/64\n",
      "23/23 [==============================] - 0s 1ms/step - loss: 0.0168\n",
      "Epoch 53/64\n",
      "23/23 [==============================] - 0s 1ms/step - loss: 0.0168\n",
      "Epoch 54/64\n",
      "23/23 [==============================] - 0s 1ms/step - loss: 0.0167\n",
      "Epoch 55/64\n",
      "23/23 [==============================] - 0s 2ms/step - loss: 0.0167\n",
      "Epoch 56/64\n",
      "23/23 [==============================] - 0s 1ms/step - loss: 0.0167\n",
      "Epoch 57/64\n",
      "23/23 [==============================] - 0s 2ms/step - loss: 0.0167\n",
      "Epoch 58/64\n",
      "23/23 [==============================] - 0s 2ms/step - loss: 0.0167\n",
      "Epoch 59/64\n",
      "23/23 [==============================] - 0s 2ms/step - loss: 0.0167\n",
      "Epoch 60/64\n",
      "23/23 [==============================] - 0s 2ms/step - loss: 0.0167\n",
      "Epoch 61/64\n",
      "23/23 [==============================] - 0s 2ms/step - loss: 0.0167\n",
      "Epoch 62/64\n",
      "23/23 [==============================] - 0s 2ms/step - loss: 0.0167\n",
      "Epoch 63/64\n",
      "23/23 [==============================] - 0s 1ms/step - loss: 0.0167\n",
      "Epoch 64/64\n",
      "23/23 [==============================] - 0s 2ms/step - loss: 0.0167\n"
     ]
    }
   ],
   "source": [
    "# Training positive model\n",
    "pos_info = pos_model.fit(pos_train_features, pos_train_labels, epochs=64, verbose=1)"
   ]
  },
  {
   "cell_type": "code",
   "execution_count": 36,
   "metadata": {},
   "outputs": [
    {
     "name": "stdout",
     "output_type": "stream",
     "text": [
      "Epoch 1/64\n",
      "24/24 [==============================] - 0s 2ms/step - loss: 0.0239\n",
      "Epoch 2/64\n",
      "24/24 [==============================] - 0s 1ms/step - loss: 0.0198\n",
      "Epoch 3/64\n",
      "24/24 [==============================] - 0s 1ms/step - loss: 0.0190\n",
      "Epoch 4/64\n",
      "24/24 [==============================] - 0s 2ms/step - loss: 0.0189\n",
      "Epoch 5/64\n",
      "24/24 [==============================] - 0s 2ms/step - loss: 0.0187\n",
      "Epoch 6/64\n",
      "24/24 [==============================] - 0s 1ms/step - loss: 0.0187\n",
      "Epoch 7/64\n",
      "24/24 [==============================] - 0s 2ms/step - loss: 0.0190\n",
      "Epoch 8/64\n",
      "24/24 [==============================] - 0s 2ms/step - loss: 0.0188\n",
      "Epoch 9/64\n",
      "24/24 [==============================] - 0s 2ms/step - loss: 0.0189\n",
      "Epoch 10/64\n",
      "24/24 [==============================] - 0s 2ms/step - loss: 0.0190\n",
      "Epoch 11/64\n",
      "24/24 [==============================] - 0s 2ms/step - loss: 0.0188\n",
      "Epoch 12/64\n",
      "24/24 [==============================] - 0s 2ms/step - loss: 0.0187\n",
      "Epoch 13/64\n",
      "24/24 [==============================] - 0s 2ms/step - loss: 0.0187\n",
      "Epoch 14/64\n",
      "24/24 [==============================] - 0s 1ms/step - loss: 0.0188\n",
      "Epoch 15/64\n",
      "24/24 [==============================] - 0s 2ms/step - loss: 0.0188\n",
      "Epoch 16/64\n",
      "24/24 [==============================] - 0s 1ms/step - loss: 0.0188\n",
      "Epoch 17/64\n",
      "24/24 [==============================] - 0s 2ms/step - loss: 0.0189\n",
      "Epoch 18/64\n",
      "24/24 [==============================] - 0s 2ms/step - loss: 0.0188\n",
      "Epoch 19/64\n",
      "24/24 [==============================] - 0s 2ms/step - loss: 0.0188\n",
      "Epoch 20/64\n",
      "24/24 [==============================] - 0s 2ms/step - loss: 0.0188\n",
      "Epoch 21/64\n",
      "24/24 [==============================] - 0s 2ms/step - loss: 0.0187\n",
      "Epoch 22/64\n",
      "24/24 [==============================] - 0s 2ms/step - loss: 0.0187\n",
      "Epoch 23/64\n",
      "24/24 [==============================] - 0s 2ms/step - loss: 0.0187\n",
      "Epoch 24/64\n",
      "24/24 [==============================] - 0s 2ms/step - loss: 0.0187\n",
      "Epoch 25/64\n",
      "24/24 [==============================] - 0s 2ms/step - loss: 0.0188\n",
      "Epoch 26/64\n",
      "24/24 [==============================] - 0s 1ms/step - loss: 0.0187\n",
      "Epoch 27/64\n",
      "24/24 [==============================] - 0s 2ms/step - loss: 0.0188\n",
      "Epoch 28/64\n",
      "24/24 [==============================] - 0s 1ms/step - loss: 0.0188\n",
      "Epoch 29/64\n",
      "24/24 [==============================] - 0s 1ms/step - loss: 0.0189\n",
      "Epoch 30/64\n",
      "24/24 [==============================] - 0s 2ms/step - loss: 0.0188\n",
      "Epoch 31/64\n",
      "24/24 [==============================] - 0s 1ms/step - loss: 0.0187\n",
      "Epoch 32/64\n",
      "24/24 [==============================] - 0s 2ms/step - loss: 0.0187\n",
      "Epoch 33/64\n",
      "24/24 [==============================] - 0s 1ms/step - loss: 0.0188\n",
      "Epoch 34/64\n",
      "24/24 [==============================] - 0s 1ms/step - loss: 0.0189\n",
      "Epoch 35/64\n",
      "24/24 [==============================] - 0s 2ms/step - loss: 0.0188\n",
      "Epoch 36/64\n",
      "24/24 [==============================] - 0s 2ms/step - loss: 0.0187\n",
      "Epoch 37/64\n",
      "24/24 [==============================] - 0s 2ms/step - loss: 0.0188\n",
      "Epoch 38/64\n",
      "24/24 [==============================] - 0s 2ms/step - loss: 0.0187\n",
      "Epoch 39/64\n",
      "24/24 [==============================] - 0s 2ms/step - loss: 0.0188\n",
      "Epoch 40/64\n",
      "24/24 [==============================] - 0s 2ms/step - loss: 0.0187\n",
      "Epoch 41/64\n",
      "24/24 [==============================] - 0s 2ms/step - loss: 0.0189\n",
      "Epoch 42/64\n",
      "24/24 [==============================] - 0s 1ms/step - loss: 0.0188\n",
      "Epoch 43/64\n",
      "24/24 [==============================] - 0s 1ms/step - loss: 0.0187\n",
      "Epoch 44/64\n",
      "24/24 [==============================] - 0s 1ms/step - loss: 0.0188\n",
      "Epoch 45/64\n",
      "24/24 [==============================] - 0s 1ms/step - loss: 0.0188\n",
      "Epoch 46/64\n",
      "24/24 [==============================] - 0s 1ms/step - loss: 0.0187\n",
      "Epoch 47/64\n",
      "24/24 [==============================] - ETA: 0s - loss: 0.017 - 0s 1ms/step - loss: 0.0187\n",
      "Epoch 48/64\n",
      "24/24 [==============================] - 0s 2ms/step - loss: 0.0188\n",
      "Epoch 49/64\n",
      "24/24 [==============================] - 0s 1ms/step - loss: 0.0188\n",
      "Epoch 50/64\n",
      "24/24 [==============================] - 0s 1ms/step - loss: 0.0187\n",
      "Epoch 51/64\n",
      "24/24 [==============================] - 0s 2ms/step - loss: 0.0188\n",
      "Epoch 52/64\n",
      "24/24 [==============================] - 0s 2ms/step - loss: 0.0187\n",
      "Epoch 53/64\n",
      "24/24 [==============================] - 0s 2ms/step - loss: 0.0188\n",
      "Epoch 54/64\n",
      "24/24 [==============================] - 0s 2ms/step - loss: 0.0188\n",
      "Epoch 55/64\n",
      "24/24 [==============================] - 0s 2ms/step - loss: 0.0187\n",
      "Epoch 56/64\n",
      "24/24 [==============================] - 0s 2ms/step - loss: 0.0187\n",
      "Epoch 57/64\n",
      "24/24 [==============================] - 0s 2ms/step - loss: 0.0188\n",
      "Epoch 58/64\n",
      "24/24 [==============================] - 0s 2ms/step - loss: 0.0187\n",
      "Epoch 59/64\n",
      "24/24 [==============================] - 0s 2ms/step - loss: 0.0188\n",
      "Epoch 60/64\n",
      "24/24 [==============================] - 0s 2ms/step - loss: 0.0188\n",
      "Epoch 61/64\n",
      "24/24 [==============================] - 0s 1ms/step - loss: 0.0187\n",
      "Epoch 62/64\n",
      "24/24 [==============================] - 0s 2ms/step - loss: 0.0187\n",
      "Epoch 63/64\n",
      "24/24 [==============================] - 0s 2ms/step - loss: 0.0188\n",
      "Epoch 64/64\n",
      "24/24 [==============================] - 0s 2ms/step - loss: 0.0187\n"
     ]
    }
   ],
   "source": [
    "# Training negative model\n",
    "neg_info = neg_model.fit(neg_train_features, neg_train_labels, epochs=64, verbose=1)"
   ]
  },
  {
   "cell_type": "code",
   "execution_count": 47,
   "metadata": {
    "scrolled": true
   },
   "outputs": [
    {
     "data": {
      "image/png": "[encoded data removed]",
      "text/plain": [
       "<Figure size 432x288 with 1 Axes>"
      ]
     },
     "metadata": {
      "needs_background": "light"
     },
     "output_type": "display_data"
    }
   ],
   "source": [
    "# Plotting the positive test data along with the model's predictions for all included domain values \n",
    "plt.scatter(pos_test_features, pos_test_labels, label='Test Data Points')\n",
    "plt.plot(pos_test_features, pos_model.predict((pos_test_features[:],)), 'r', label='Model\\'s Predictions')\n",
    "plt.legend()\n",
    "plt.axis([pos_test_features.min() - 0.1, pos_test_features.max() + 0.1, pos_test_labels.min() - 0.1, pos_test_labels.max() + 0.1])\n",
    "plt.title('Positive Model')\n",
    "plt.xlabel('MACD Histogram Value')\n",
    "plt.ylabel('Max Percentage Price Decrease\\n Over the Next 5 Days\\n(Decimal Value)\\n(NOTE: The Larger the decrease in price,\\n the more negative the y value will be)')\n",
    "lgnd = plt.legend()"
   ]
  },
  {
   "cell_type": "code",
   "execution_count": 48,
   "metadata": {
    "scrolled": true
   },
   "outputs": [
    {
     "data": {
      "image/png": "[encoded data removed]",
      "text/plain": [
       "<Figure size 432x288 with 1 Axes>"
      ]
     },
     "metadata": {
      "needs_background": "light"
     },
     "output_type": "display_data"
    }
   ],
   "source": [
    "# Plotting the negative test data along with the model's predictions for all included domain values \n",
    "plt.scatter(neg_test_features, neg_test_labels, label='Test Data Points')\n",
    "plt.plot(neg_test_features, neg_model.predict((neg_test_features[:],)), 'r', label='Model\\'s Predictions')\n",
    "plt.axis([neg_test_features.min() - 0.1, neg_test_features.max() + 0.1, neg_test_labels.min() - 0.1, neg_test_labels.max() + 0.1])\n",
    "plt.title('Negative Model')\n",
    "plt.xlabel('MACD Histogram Value')\n",
    "plt.ylabel('Max Percentage Price Increase\\n Over the Next 5 Days\\n(Decimal Value)\\n(NOTE: The Larger the increase in price,\\n the more positive the y value will be)')\n",
    "lgnd = plt.legend()"
   ]
  },
  {
   "cell_type": "code",
   "execution_count": 45,
   "metadata": {
    "scrolled": true
   },
   "outputs": [
    {
     "name": "stdout",
     "output_type": "stream",
     "text": [
      "Slope of Negative Model Prediction Line: -0.008067438\n",
      "Slope of Positive Model Prediction Line: -0.009077326\n"
     ]
    }
   ],
   "source": [
    "# Slopes of the prediction lines\n",
    "neg_weight = neg_model.layers[0].get_weights()[0][0][0]\n",
    "pos_weight = pos_model.layers[0].get_weights()[0][0][0]\n",
    "print('Slope of Negative Model Prediction Line: ' + str(neg_weight))\n",
    "print('Slope of Positive Model Prediction Line: ' + str(pos_weight))"
   ]
  }
 ],
 "metadata": {
  "colab": {
   "name": "(Change Title Later).ipynb",
   "provenance": []
  },
  "kernelspec": {
   "display_name": "Python 3 (ipykernel)",
   "language": "python",
   "name": "python3"
  },
  "language_info": {
   "codemirror_mode": {
    "name": "ipython",
    "version": 3
   },
   "file_extension": ".py",
   "mimetype": "text/x-python",
   "name": "python",
   "nbconvert_exporter": "python",
   "pygments_lexer": "ipython3",
   "version": "3.9.9"
  }
 },
 "nbformat": 4,
 "nbformat_minor": 1
}
